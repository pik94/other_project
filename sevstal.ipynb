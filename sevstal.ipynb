{
 "cells": [
  {
   "cell_type": "code",
   "execution_count": 1,
   "metadata": {
    "collapsed": true
   },
   "outputs": [],
   "source": [
    "import os\n",
    "import numpy as np\n",
    "import pandas as pd\n",
    "from sklearn.preprocessing import Imputer, StandardScaler\n",
    "from sklearn.metrics import roc_auc_score\n",
    "from sklearn.model_selection import KFold\n",
    "import catboost as cat\n",
    "import xgboost as xgb\n",
    "from matplotlib import pyplot as plt\n",
    "%matplotlib inline\n"
   ]
  },
  {
   "cell_type": "code",
   "execution_count": 2,
   "metadata": {},
   "outputs": [],
   "source": [
    "path = os.path.join('/', 'data', 'pik_competition', 'sev')\n",
    "train_path = os.path.join(path, 'xtrain.csv')\n",
    "test_path = os.path.join(path, 'xtest.csv')\n",
    "y_train_path = os.path.join(path, 'ytrain.csv')\n",
    "\n",
    "\n",
    "X_train_df = pd.read_csv(train_path, header=0)\n",
    "# X_test_df = pd.read_csv(test_path, header=0)\n",
    "y_train_df = pd.read_csv(y_train_path, header=0)"
   ]
  },
  {
   "cell_type": "code",
   "execution_count": 18,
   "metadata": {},
   "outputs": [
    {
     "data": {
      "text/plain": [
       "Index(['1', '2', '3', '4', '5', '6', '7', '8', '9', '10', '11', '12', '13',\n       '14', '15', '16', '17', '18', '19', '20', '21', '22', '23', '24', '25',\n       '26', '27', '28', '29', '30', '31', '32', '33', '34', '35', '36', '37',\n       '38', '39', '40', '41', '42', '43', '44', '45', '46', '47', '48', '49',\n       '50', '51', '52', '53', '54', '55', '56', '57', '58'],\n      dtype='object')"
      ]
     },
     "execution_count": 18,
     "metadata": {},
     "output_type": "execute_result"
    }
   ],
   "source": [
    "X_train_df.columns"
   ]
  },
  {
   "cell_type": "code",
   "execution_count": 32,
   "metadata": {},
   "outputs": [
    {
     "name": "stdout",
     "output_type": "stream",
     "text": [
      "Index(['2', '3', '5', '6', '7', '9', '10', '15', '17', '18', '21', '22', '23',\n       '24', '26', '27', '29', '30', '31', '32', '36', '44', '45', '47', '48',\n       '50', '51'],\n      dtype='object')\n"
     ]
    }
   ],
   "source": [
    "imp = Imputer()\n",
    "\n",
    "cols = ['1', '4', '8', '11', '12', '13', '14', '16', '19', '20', '25', '28', '33', '34', \n",
    "        '35', '37', '38', '39', '40', '41', '42', '43', '46', '49', '52', '53', '54', '55', '56',\n",
    "        '57', '58']\n",
    "# cols = ['1']\n",
    "\n",
    "X_part = pd.DataFrame(imp.fit_transform(X_train_df[cols].values))\n",
    "\n",
    "X_train_df_dropped = X_train_df.drop(columns=cols)\n",
    "print(X_train_df_dropped.columns)\n",
    "# impt = Imputer(strategy='most_frequent')\n",
    "impt = Imputer(strategy='most_frequent')\n",
    "X_part_2 = pd.DataFrame(impt.fit_transform(X_train_df_dropped.values))\n",
    "\n",
    "X = pd.concat([X_part, X_part_2], axis=1).values\n",
    "\n",
    "y = y_train_df.values.ravel()"
   ]
  },
  {
   "cell_type": "code",
   "execution_count": 33,
   "metadata": {},
   "outputs": [],
   "source": [
    "scaler = StandardScaler()\n",
    "X = scaler.fit_transform(X)"
   ]
  },
  {
   "cell_type": "code",
   "execution_count": 34,
   "metadata": {},
   "outputs": [],
   "source": [
    "kf = KFold(n_splits=5, shuffle=True, random_state=42)\n"
   ]
  },
  {
   "cell_type": "code",
   "execution_count": 40,
   "metadata": {},
   "outputs": [],
   "source": [
    "train_score = list()\n",
    "test_score = list()\n",
    "\n",
    "for train_index, test_index in kf.split(X):\n",
    "    X_train = X[train_index]\n",
    "    y_train = y[train_index]\n",
    "    X_test = X[test_index]\n",
    "    y_test = y[test_index]\n",
    "    \n",
    "    model = cat.CatBoostClassifier(random_state=42, iterations=1000, \n",
    "                                   logging_level='Silent', learning_rate=0.1)\n",
    "    model.fit(X_train, y_train)\n",
    "    \n",
    "    train_score.append(roc_auc_score(y_train, model.predict(X_train)))\n",
    "    test_score.append(roc_auc_score(y_test, model.predict(X_test)))\n",
    "    \n",
    "print('train: %s' % np.array(train_score).mean())\n",
    "print('test: %s' % np.array(test_score).mean())"
   ]
  },
  {
   "cell_type": "code",
   "execution_count": null,
   "metadata": {},
   "outputs": [],
   "source": []
  }
 ],
 "metadata": {
  "kernelspec": {
   "display_name": "Python 2",
   "language": "python",
   "name": "python2"
  },
  "language_info": {
   "codemirror_mode": {
    "name": "ipython",
    "version": 2
   },
   "file_extension": ".py",
   "mimetype": "text/x-python",
   "name": "python",
   "nbconvert_exporter": "python",
   "pygments_lexer": "ipython2",
   "version": "2.7.6"
  }
 },
 "nbformat": 4,
 "nbformat_minor": 0
}
